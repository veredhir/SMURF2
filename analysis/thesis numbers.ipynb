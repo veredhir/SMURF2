{
 "cells": [
  {
   "cell_type": "code",
   "execution_count": 1,
   "metadata": {},
   "outputs": [],
   "source": [
    "import pandas as pd"
   ]
  },
  {
   "cell_type": "markdown",
   "metadata": {},
   "source": [
    "# Extract data from expriments to the thesis"
   ]
  },
  {
   "cell_type": "code",
   "execution_count": 2,
   "metadata": {},
   "outputs": [],
   "source": [
    "import os\n",
    "\n",
    "default_path = \"/home/vered/EMIRGE/cluster/cluster_default\"\n",
    "family_path = \"/home/vered/EMIRGE/cluster/cluster_family\"\n",
    "df_defualts = []\n",
    "df_family = []\n",
    "\n",
    "for filename in os.listdir(default_path):\n",
    "    if filename.endswith(\".csv\") and ('stat' in filename):\n",
    "        df_defualts.append((filename, pd.read_csv(os.path.join(default_path, filename))))\n",
    "\n",
    "for filename in os.listdir(family_path):\n",
    "    if filename.endswith(\".csv\") and ('stat' in filename):\n",
    "        df_family.append((filename, pd.read_csv(os.path.join(family_path, filename))))"
   ]
  },
  {
   "cell_type": "code",
   "execution_count": 19,
   "metadata": {},
   "outputs": [
    {
     "data": {
      "text/html": [
       "<div>\n",
       "<style scoped>\n",
       "    .dataframe tbody tr th:only-of-type {\n",
       "        vertical-align: middle;\n",
       "    }\n",
       "\n",
       "    .dataframe tbody tr th {\n",
       "        vertical-align: top;\n",
       "    }\n",
       "\n",
       "    .dataframe thead th {\n",
       "        text-align: right;\n",
       "    }\n",
       "</style>\n",
       "<table border=\"1\" class=\"dataframe\">\n",
       "  <thead>\n",
       "    <tr style=\"text-align: right;\">\n",
       "      <th></th>\n",
       "      <th># Bacteria changed</th>\n",
       "      <th>bacteria</th>\n",
       "      <th>count</th>\n",
       "      <th>mean</th>\n",
       "      <th>std</th>\n",
       "      <th>min</th>\n",
       "      <th>25%</th>\n",
       "      <th>50%</th>\n",
       "      <th>75%</th>\n",
       "      <th>max</th>\n",
       "    </tr>\n",
       "  </thead>\n",
       "  <tbody>\n",
       "    <tr>\n",
       "      <th>0</th>\n",
       "      <td>1</td>\n",
       "      <td>Intra DB</td>\n",
       "      <td>66.0</td>\n",
       "      <td>0.995562</td>\n",
       "      <td>0.007116</td>\n",
       "      <td>0.969697</td>\n",
       "      <td>0.989899</td>\n",
       "      <td>1.0</td>\n",
       "      <td>1.0</td>\n",
       "      <td>1.0</td>\n",
       "    </tr>\n",
       "    <tr>\n",
       "      <th>1</th>\n",
       "      <td>1</td>\n",
       "      <td>Intra DB - origin</td>\n",
       "      <td>66.0</td>\n",
       "      <td>0.000000</td>\n",
       "      <td>0.000000</td>\n",
       "      <td>0.000000</td>\n",
       "      <td>0.000000</td>\n",
       "      <td>0.0</td>\n",
       "      <td>0.0</td>\n",
       "      <td>0.0</td>\n",
       "    </tr>\n",
       "    <tr>\n",
       "      <th>2</th>\n",
       "      <td>1</td>\n",
       "      <td>Modified bacteria</td>\n",
       "      <td>66.0</td>\n",
       "      <td>0.969697</td>\n",
       "      <td>0.172733</td>\n",
       "      <td>0.000000</td>\n",
       "      <td>1.000000</td>\n",
       "      <td>1.0</td>\n",
       "      <td>1.0</td>\n",
       "      <td>1.0</td>\n",
       "    </tr>\n",
       "    <tr>\n",
       "      <th>3</th>\n",
       "      <td>3</td>\n",
       "      <td>Intra DB</td>\n",
       "      <td>75.0</td>\n",
       "      <td>0.993814</td>\n",
       "      <td>0.008474</td>\n",
       "      <td>0.958763</td>\n",
       "      <td>0.989691</td>\n",
       "      <td>1.0</td>\n",
       "      <td>1.0</td>\n",
       "      <td>1.0</td>\n",
       "    </tr>\n",
       "    <tr>\n",
       "      <th>4</th>\n",
       "      <td>3</td>\n",
       "      <td>Intra DB - origin</td>\n",
       "      <td>75.0</td>\n",
       "      <td>0.000000</td>\n",
       "      <td>0.000000</td>\n",
       "      <td>0.000000</td>\n",
       "      <td>0.000000</td>\n",
       "      <td>0.0</td>\n",
       "      <td>0.0</td>\n",
       "      <td>0.0</td>\n",
       "    </tr>\n",
       "    <tr>\n",
       "      <th>5</th>\n",
       "      <td>3</td>\n",
       "      <td>Modified bacteria</td>\n",
       "      <td>75.0</td>\n",
       "      <td>0.964444</td>\n",
       "      <td>0.103589</td>\n",
       "      <td>0.666667</td>\n",
       "      <td>1.000000</td>\n",
       "      <td>1.0</td>\n",
       "      <td>1.0</td>\n",
       "      <td>1.0</td>\n",
       "    </tr>\n",
       "  </tbody>\n",
       "</table>\n",
       "</div>"
      ],
      "text/plain": [
       "   # Bacteria changed           bacteria  count      mean       std       min  \\\n",
       "0                   1           Intra DB   66.0  0.995562  0.007116  0.969697   \n",
       "1                   1  Intra DB - origin   66.0  0.000000  0.000000  0.000000   \n",
       "2                   1  Modified bacteria   66.0  0.969697  0.172733  0.000000   \n",
       "3                   3           Intra DB   75.0  0.993814  0.008474  0.958763   \n",
       "4                   3  Intra DB - origin   75.0  0.000000  0.000000  0.000000   \n",
       "5                   3  Modified bacteria   75.0  0.964444  0.103589  0.666667   \n",
       "\n",
       "        25%  50%  75%  max  \n",
       "0  0.989899  1.0  1.0  1.0  \n",
       "1  0.000000  0.0  0.0  0.0  \n",
       "2  1.000000  1.0  1.0  1.0  \n",
       "3  0.989691  1.0  1.0  1.0  \n",
       "4  0.000000  0.0  0.0  0.0  \n",
       "5  1.000000  1.0  1.0  1.0  "
      ]
     },
     "execution_count": 19,
     "metadata": {},
     "output_type": "execute_result"
    }
   ],
   "source": [
    "df_family[0][1]"
   ]
  },
  {
   "cell_type": "code",
   "execution_count": 4,
   "metadata": {},
   "outputs": [
    {
     "name": "stdout",
     "output_type": "stream",
     "text": [
      "Default:\n",
      "0.9946402803545652\n",
      "Family:\n",
      "0.9938144329896896\n"
     ]
    }
   ],
   "source": [
    "def print_recall(dfs):\n",
    "    max_val = []\n",
    "    for name, df in dfs:\n",
    "        if 'Recall' in name:\n",
    "            max_val.append( df[df['bacteria']== 'Intra DB']['mean'].abs().min())\n",
    "    print max(max_val)\n",
    "\n",
    "print 'Default:'\n",
    "print_recall(df_defualts)\n",
    "\n",
    "print \"Family:\"\n",
    "\n",
    "print_recall(df_family)\n",
    "    "
   ]
  },
  {
   "cell_type": "code",
   "execution_count": 57,
   "metadata": {},
   "outputs": [
    {
     "name": "stdout",
     "output_type": "stream",
     "text": [
      "Default:\n",
      "0.913164155432196\n",
      "0.02819121340462904\n",
      "Family:\n",
      "0.9189777842311594\n",
      "0.024638337801649538\n"
     ]
    }
   ],
   "source": [
    "def print_precision(dfs):\n",
    "    min_mean = []\n",
    "    max_std = []\n",
    "    for name, df in dfs:\n",
    "        if 'Precision' in name:\n",
    "            min_mean.append( df[df['bacteria']== 'Intra DB']['mean'].abs().min())\n",
    "            max_std.append( df[df['bacteria']== 'Intra DB']['std'].abs().min())\n",
    "    print min(min_mean)\n",
    "    print max(max_std)\n",
    "\n",
    "print 'Default:'\n",
    "print_precision(df_defualts)\n",
    "\n",
    "print \"Family:\"\n",
    "\n",
    "print_precision(df_family)"
   ]
  },
  {
   "cell_type": "markdown",
   "metadata": {},
   "source": [
    "## Mean Precision diff Family vs. Random mixtures"
   ]
  },
  {
   "cell_type": "code",
   "execution_count": 6,
   "metadata": {},
   "outputs": [
    {
     "name": "stdout",
     "output_type": "stream",
     "text": [
      "  # Reads           bacteria      diff    mean_f    mean_d\n",
      "2    100k  Modified bacteria  0.058824  0.666667  0.725490\n",
      "5    500k  Modified bacteria  0.053651  0.684444  0.738095\n",
      "8     50k  Modified bacteria -0.157736  0.786667  0.628931\n",
      "   # Bacteria changed           bacteria      diff    mean_f    mean_d\n",
      "2                   1  Modified bacteria  0.063389  0.712121  0.775510\n",
      "5                   3  Modified bacteria  0.053651  0.684444  0.738095\n",
      "    # Changes per bacterium           bacteria      diff    mean_f    mean_d\n",
      "2                         1  Modified bacteria  0.025845  0.910053  0.935897\n",
      "5                        10  Modified bacteria  0.053651  0.684444  0.738095\n",
      "8                        20  Modified bacteria -0.074034  0.586854  0.512821\n",
      "11                       50  Modified bacteria  0.004070  0.445205  0.449275\n",
      "14                      100  Modified bacteria -0.055592  0.251244  0.195652\n"
     ]
    }
   ],
   "source": [
    "for family, default in zip(df_family, df_defualts):\n",
    "    if (family[0] == default[0]) and ('Precision' in default[0]):\n",
    "        col = [col for col in family[1].columns if '#' in col]\n",
    "        merged = pd.merge(family[1], default[1], on=[col[0],'bacteria'], suffixes=(\"_f\", '_d'))\n",
    "        merged['diff']=merged['mean_d'] - merged['mean_f']\n",
    "#         print merged.columns\n",
    "        merged = merged[merged.bacteria=='Modified bacteria']\n",
    "        print merged[[col[0],'bacteria', 'diff', 'mean_f', 'mean_d']]"
   ]
  },
  {
   "cell_type": "markdown",
   "metadata": {},
   "source": [
    "## STD Precision diff Family vs. Random mixture - MODIFIED BACTERIA"
   ]
  },
  {
   "cell_type": "code",
   "execution_count": 7,
   "metadata": {},
   "outputs": [
    {
     "name": "stdout",
     "output_type": "stream",
     "text": [
      "  # Reads           bacteria      diff     std_f     std_d\n",
      "2    100k  Modified bacteria -0.038391  0.276026  0.237635\n",
      "5    500k  Modified bacteria  0.022315  0.267865  0.290180\n",
      "8     50k  Modified bacteria  0.016969  0.233333  0.250302\n",
      "   # Bacteria changed           bacteria      diff     std_f     std_d\n",
      "2                   1  Modified bacteria -0.036853  0.456244  0.419391\n",
      "5                   3  Modified bacteria  0.022315  0.267865  0.290180\n",
      "    # Changes per bacterium           bacteria      diff     std_f     std_d\n",
      "2                         1  Modified bacteria -0.019445  0.181653  0.162208\n",
      "5                        10  Modified bacteria  0.022315  0.267865  0.290180\n",
      "8                        20  Modified bacteria  0.024152  0.267052  0.291204\n",
      "11                       50  Modified bacteria -0.022748  0.314337  0.291589\n",
      "14                      100  Modified bacteria -0.048666  0.287760  0.239094\n"
     ]
    }
   ],
   "source": [
    "for family, default in zip(df_family, df_defualts):\n",
    "    if (family[0] == default[0]) and ('Precision' in default[0]):\n",
    "        col = [col for col in family[1].columns if '#' in col]\n",
    "        merged = pd.merge(family[1], default[1], on=[col[0],'bacteria'], suffixes=(\"_f\", '_d'))\n",
    "        merged['diff']=merged['std_d'] - merged['std_f']\n",
    "#         print merged.columns\n",
    "        merged = merged[merged.bacteria=='Modified bacteria']\n",
    "        print merged[[col[0],'bacteria', 'diff', 'std_f', 'std_d']]"
   ]
  },
  {
   "cell_type": "markdown",
   "metadata": {},
   "source": [
    "## STD Precision diff Family vs. Random mixture - INTRA DB"
   ]
  },
  {
   "cell_type": "code",
   "execution_count": 8,
   "metadata": {},
   "outputs": [
    {
     "name": "stdout",
     "output_type": "stream",
     "text": [
      "  # Reads  bacteria      diff     std_f     std_d\n",
      "0    100k  Intra DB -0.003449  0.034977  0.031528\n",
      "3    500k  Intra DB  0.005356  0.024638  0.029995\n",
      "6     50k  Intra DB  0.008245  0.019287  0.027532\n",
      "   # Bacteria changed  bacteria      diff     std_f     std_d\n",
      "0                   1  Intra DB  0.002749  0.025442  0.028191\n",
      "3                   3  Intra DB  0.005356  0.024638  0.029995\n",
      "    # Changes per bacterium  bacteria      diff     std_f     std_d\n",
      "0                         1  Intra DB -0.006141  0.027114  0.020973\n",
      "3                        10  Intra DB  0.005356  0.024638  0.029995\n",
      "6                        20  Intra DB  0.000909  0.027843  0.028752\n",
      "9                        50  Intra DB  0.003740  0.023963  0.027703\n",
      "12                      100  Intra DB -0.006319  0.026069  0.019750\n"
     ]
    }
   ],
   "source": [
    "for family, default in zip(df_family, df_defualts):\n",
    "    if (family[0] == default[0]) and ('Precision' in default[0]):\n",
    "        col = [col for col in family[1].columns if '#' in col]\n",
    "        merged = pd.merge(family[1], default[1], on=[col[0],'bacteria'], suffixes=(\"_f\", '_d'))\n",
    "        merged['diff']=merged['std_d'] - merged['std_f']\n",
    "#         print merged.columns\n",
    "        merged = merged[merged.bacteria=='Intra DB']\n",
    "        print merged[[col[0],'bacteria', 'diff', 'std_f', 'std_d']]"
   ]
  },
  {
   "cell_type": "markdown",
   "metadata": {},
   "source": [
    "## STD diff Family vs. Random mixture - INTRA DB"
   ]
  },
  {
   "cell_type": "code",
   "execution_count": 22,
   "metadata": {},
   "outputs": [
    {
     "name": "stdout",
     "output_type": "stream",
     "text": [
      "Max std intra db:  0.0175494217958892\n",
      "Max std modified:  0.194245881358831\n"
     ]
    }
   ],
   "source": [
    "import numpy as np\n",
    "intra_db_std=[]\n",
    "modified_std=[]\n",
    "for (nf, family), (nd, default) in zip(df_family, df_defualts):\n",
    "#     print nf, nd\n",
    "    intra_db_std.append(default[default.bacteria=='Intra DB']['std'].mean())\n",
    "    intra_db_std.append(family[family.bacteria=='Intra DB']['std'].mean())\n",
    "    modified_std.append(default[default.bacteria=='Modified bacteria']['std'].mean())\n",
    "    modified_std.append(family[family.bacteria=='Modified bacteria']['std'].mean())\n",
    "# print intra_db_std, modified_std\n",
    "print \"Max std intra db: \", np.mean(intra_db_std)\n",
    "print \"Max std modified: \", np.mean(modified_std)\n"
   ]
  },
  {
   "cell_type": "markdown",
   "metadata": {},
   "source": [
    "## exterior bacteria distance from DB"
   ]
  },
  {
   "cell_type": "code",
   "execution_count": 27,
   "metadata": {},
   "outputs": [
    {
     "name": "stdout",
     "output_type": "stream",
     "text": [
      "0.9644444444444444\n",
      "0.9565217391304348\n"
     ]
    }
   ],
   "source": [
    "for (nf, family), (nd, default) in zip(df_family, df_defualts):\n",
    "    if 'bacterium' in nf and 'Recall' in nf:\n",
    "#         print family.head()\n",
    "        print family[family['bacteria']=='Modified bacteria']['mean'].min()\n",
    "        print default[default['bacteria']=='Modified bacteria']['mean'].min()\n",
    "        "
   ]
  },
  {
   "cell_type": "markdown",
   "metadata": {},
   "source": [
    "## Reads"
   ]
  },
  {
   "cell_type": "code",
   "execution_count": 48,
   "metadata": {},
   "outputs": [
    {
     "name": "stdout",
     "output_type": "stream",
     "text": [
      "Diff between precision of 100k and 500k  -0.012605042016806789\n",
      "Recall: family = 0.944444444444, default = 0.960784313725\n"
     ]
    }
   ],
   "source": [
    "for (nf, family), (nd, default) in zip(df_family, df_defualts):\n",
    "    if 'Read' in nf and 'Precision' in nf:\n",
    "        mean_100k = default[(default['bacteria']=='Modified bacteria') & \n",
    "                    (default['# Reads']=='100k')]['mean'].max()\n",
    "        mean_500k = default[(default['bacteria']=='Modified bacteria') & \n",
    "                    (default['# Reads']=='500k')]['mean'].max()\n",
    "        print \"Defualt mix: Diff between precision of 100k and 500k \", mean_100k - mean_500k\n",
    "    if 'Read' in nf and 'Recall' in nf:\n",
    "        f_recall = family[family['bacteria']=='Modified bacteria']['mean'].min()\n",
    "        d_recall = default[default['bacteria']=='Modified bacteria']['mean'].min()\n",
    "        print \"Recall: family = {}, default = {}\".format(f_recall, d_recall)\n",
    "        "
   ]
  },
  {
   "cell_type": "markdown",
   "metadata": {},
   "source": [
    "## Bacteria changed"
   ]
  },
  {
   "cell_type": "code",
   "execution_count": 56,
   "metadata": {},
   "outputs": [
    {
     "name": "stdout",
     "output_type": "stream",
     "text": [
      "Recall bothe intra-db and exterior: family = 0.964444444444, default = 0.97619047619\n",
      "Precision bothe intra-db and exterior: family = 0.684444444444, default = 0.738095238095\n",
      "Defualt mix: Diff between precision of 1 and 3  -0.03741496598639449\n"
     ]
    }
   ],
   "source": [
    "for (nf, family), (nd, default) in zip(df_family, df_defualts):\n",
    "    if 'Bacteria' in nf and 'Recall' in nf:\n",
    "        f_recall = family[family['bacteria']!='Intra DB - origin']['mean'].min()\n",
    "        d_recall = default[default['bacteria']!='Intra DB - origin']['mean'].min()\n",
    "        print \"Recall bothe intra-db and exterior: family = {}, default = {}\".format(f_recall, d_recall)\n",
    "    if 'Bacteria' in nf and 'Precision' in nf:\n",
    "        f_recall = family[family['bacteria']!='Intra DB - origin']['mean'].min()\n",
    "        d_recall = default[default['bacteria']!='Intra DB - origin']['mean'].min()\n",
    "        print \"Precision bothe intra-db and exterior: family = {}, default = {}\".format(f_recall, d_recall)\n",
    "        mean_1 = default[(default['bacteria']=='Modified bacteria') & \n",
    "                    (default['# Bacteria changed']==1)]['mean'].max()\n",
    "        mean_3 = default[(default['bacteria']=='Modified bacteria') & \n",
    "                    (default['# Bacteria changed']==3)]['mean'].max()\n",
    "        print \"Defualt mix: Diff between precision of 1 and 3 \", mean_3 - mean_1\n",
    "        "
   ]
  },
  {
   "cell_type": "code",
   "execution_count": null,
   "metadata": {},
   "outputs": [],
   "source": []
  }
 ],
 "metadata": {
  "kernelspec": {
   "display_name": "Python 2",
   "language": "python",
   "name": "python2"
  },
  "language_info": {
   "codemirror_mode": {
    "name": "ipython",
    "version": 2
   },
   "file_extension": ".py",
   "mimetype": "text/x-python",
   "name": "python",
   "nbconvert_exporter": "python",
   "pygments_lexer": "ipython2",
   "version": "2.7.16"
  }
 },
 "nbformat": 4,
 "nbformat_minor": 2
}
